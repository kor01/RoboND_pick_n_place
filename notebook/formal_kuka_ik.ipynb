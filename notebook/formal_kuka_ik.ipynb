{
 "cells": [
  {
   "cell_type": "code",
   "execution_count": 1,
   "metadata": {
    "collapsed": false
   },
   "outputs": [],
   "source": [
    "import numpy as np\n",
    "import sympy as sp\n",
    "from kuka_kinematics.geometric_ik import KukaGeometricIK\n",
    "from manipulator_graph.kinematics_dag import KinematicsDag\n",
    "from manipulator_graph import URDFParser\n",
    "\n",
    "parser = URDFParser('./kr210.urdf')\n",
    "dag = KinematicsDag(parser.joints)\n",
    "ik = KukaGeometricIK(dag)"
   ]
  },
  {
   "cell_type": "code",
   "execution_count": 2,
   "metadata": {
    "collapsed": false
   },
   "outputs": [],
   "source": [
    "graph = dag[0].graph\n",
    "links = graph.dh_links\n",
    "joints = [x.joint for x in links]"
   ]
  },
  {
   "cell_type": "code",
   "execution_count": 3,
   "metadata": {
    "collapsed": true
   },
   "outputs": [],
   "source": [
    "current_state = {x: 0 for x in joints}"
   ]
  },
  {
   "cell_type": "code",
   "execution_count": 10,
   "metadata": {
    "collapsed": false
   },
   "outputs": [],
   "source": [
    "example_state = {x: 0.7 for x in joints}"
   ]
  },
  {
   "cell_type": "code",
   "execution_count": 11,
   "metadata": {
    "collapsed": true
   },
   "outputs": [],
   "source": [
    "forward = graph.forward(example_state)\n",
    "urdf = graph.forward(example_state, return_dh=False)\n",
    "eef = urdf[-1][1]"
   ]
  },
  {
   "cell_type": "code",
   "execution_count": 12,
   "metadata": {
    "collapsed": false
   },
   "outputs": [
    {
     "name": "stdout",
     "output_type": "stream",
     "text": [
      "(0.69999999999999574,)\n"
     ]
    },
    {
     "data": {
      "text/plain": [
       "{'joint_1': 0.70000000000000007,\n",
       " 'joint_2': 0.69999999999999574,\n",
       " 'joint_3': 0.70000000000000129,\n",
       " 'joint_4': 0.69999999999999563,\n",
       " 'joint_5': 0.70000000000000095,\n",
       " 'joint_6': 0.70000000000000573}"
      ]
     },
     "execution_count": 12,
     "metadata": {},
     "output_type": "execute_result"
    }
   ],
   "source": [
    "ik.infer_joints(current_state, eef)"
   ]
  },
  {
   "cell_type": "code",
   "execution_count": 7,
   "metadata": {
    "collapsed": false
   },
   "outputs": [
    {
     "name": "stdout",
     "output_type": "stream",
     "text": [
      "[[ 0.90181167 -0.04034915  0.4302414   2.20524832]\n",
      " [ 0.14674969  0.96505764 -0.21709051  0.31672617]\n",
      " [-0.40644833  0.25891254  0.87622146  1.39818568]\n",
      " [ 0.          0.          0.          1.        ]]\n"
     ]
    }
   ],
   "source": [
    "print eef"
   ]
  },
  {
   "cell_type": "code",
   "execution_count": 8,
   "metadata": {
    "collapsed": true
   },
   "outputs": [],
   "source": [
    "def round_print(name, vec):\n",
    "    ret = np.around(vec, 4)\n",
    "    print name, ret"
   ]
  },
  {
   "cell_type": "code",
   "execution_count": 9,
   "metadata": {
    "collapsed": false
   },
   "outputs": [
    {
     "name": "stdout",
     "output_type": "stream",
     "text": [
      " [[ 0.    -0.     1.     1.85 ]\n",
      " [-0.     1.     0.     0.   ]\n",
      " [-1.    -0.     0.     1.946]\n",
      " [ 0.     0.     0.     1.   ]]\n"
     ]
    }
   ],
   "source": [
    "round_print('', eef)"
   ]
  },
  {
   "cell_type": "code",
   "execution_count": null,
   "metadata": {
    "collapsed": true
   },
   "outputs": [],
   "source": []
  }
 ],
 "metadata": {
  "kernelspec": {
   "display_name": "Python [Root]",
   "language": "python",
   "name": "Python [Root]"
  },
  "language_info": {
   "codemirror_mode": {
    "name": "ipython",
    "version": 2
   },
   "file_extension": ".py",
   "mimetype": "text/x-python",
   "name": "python",
   "nbconvert_exporter": "python",
   "pygments_lexer": "ipython2",
   "version": "2.7.12"
  }
 },
 "nbformat": 4,
 "nbformat_minor": 0
}
