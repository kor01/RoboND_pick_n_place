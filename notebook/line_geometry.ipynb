{
 "cells": [
  {
   "cell_type": "code",
   "execution_count": 1,
   "metadata": {
    "collapsed": true
   },
   "outputs": [],
   "source": [
    "import numpy as np\n",
    "from manipulator_graph import line_geometry as lg"
   ]
  },
  {
   "cell_type": "code",
   "execution_count": 2,
   "metadata": {
    "collapsed": true
   },
   "outputs": [],
   "source": [
    "def create_line(k, p):\n",
    "    k = k / np.linalg.norm(k)\n",
    "    return lg.Line(k=np.float64(k), p=np.float64(p))"
   ]
  },
  {
   "cell_type": "code",
   "execution_count": 3,
   "metadata": {
    "collapsed": false
   },
   "outputs": [
    {
     "name": "stdout",
     "output_type": "stream",
     "text": [
      "('first test:', (1.5707963267948966, 0.0))\n",
      "('second test', (-0.78539816339744839, 10.0))\n",
      "('third test', (0, -10.0))\n",
      "('last test', (3.141592653589793, 10.0))\n"
     ]
    }
   ],
   "source": [
    "left = create_line([1, 0, 0], [0, 0, 0])\n",
    "right = create_line([0, 1, 0], [0, 0, 0])\n",
    "reference = [0, 0, 1]\n",
    "print('first test:', lg.angle_distance(left, right, reference))\n",
    "\n",
    "left = create_line([1, 1, 0], [0, 0, 10])\n",
    "right = create_line([0, 1, 0], [0, 0, 0])\n",
    "reference = [0, 0, -1]\n",
    "lg.angle_distance(left, right, reference)\n",
    "print('second test', lg.angle_distance(left, right, reference))\n",
    "\n",
    "left = create_line([1, 1, 0], [0, 0, 10])\n",
    "right = create_line([1, 1, 0], [0, 0, 0])\n",
    "reference = [0, 0, 1]\n",
    "lg.angle_distance(left, right, reference)\n",
    "print('third test', lg.angle_distance(left, right, reference))\n",
    "\n",
    "left = create_line([-1, -1, 0], [0, 0, 10])\n",
    "right = create_line([1, 1, 0], [0, 0, 0])\n",
    "reference = [0, 0, -1]\n",
    "lg.angle_distance(left, right, reference)\n",
    "print('last test', lg.angle_distance(left, right, reference))"
   ]
  },
  {
   "cell_type": "code",
   "execution_count": 4,
   "metadata": {
    "collapsed": false
   },
   "outputs": [
    {
     "name": "stdout",
     "output_type": "stream",
     "text": [
      "('difference:', 0.0)\n"
     ]
    }
   ],
   "source": [
    "a = np.random.rand(3)\n",
    "b = np.random.rand((3))\n",
    "c = np.cross(a, b)\n",
    "d = np.matmul(lg.cross_skew_matrix(a), b)\n",
    "print('difference:', np.linalg.norm(c - d))"
   ]
  },
  {
   "cell_type": "code",
   "execution_count": 10,
   "metadata": {
    "collapsed": false
   },
   "outputs": [
    {
     "name": "stdout",
     "output_type": "stream",
     "text": [
      "('parallel test:', True)\n",
      "('same line test', True)\n",
      "('same line test', False)\n"
     ]
    }
   ],
   "source": [
    "print('parallel test:', lg.parallel([1, 0, 0], [1.1, 0, 0]))\n",
    "left = create_line(k=[1, 1, 1], p=[0, 0, 0])\n",
    "right = create_line(k=[1, 1, 1], p=[-0.5, -0.5, -0.5])\n",
    "print('same line test', lg.same_line(left, right))\n",
    "right = create_line(k=[1, 1, 1], p=[-0.5, -0.5, -0.51])\n",
    "print('same line test', lg.same_line(left, right))"
   ]
  },
  {
   "cell_type": "code",
   "execution_count": 11,
   "metadata": {
    "collapsed": false
   },
   "outputs": [
    {
     "name": "stdout",
     "output_type": "stream",
     "text": [
      "('intersection test:', array([ 0.,  0.,  0.]))\n"
     ]
    }
   ],
   "source": [
    "left = create_line(k=[1, 1, 1], p=[0, 0, 0])\n",
    "right = create_line(k=[1, 3, 1], p =[1, 3, 1])\n",
    "print('intersection test:', lg.planar_intersection(left, right))"
   ]
  },
  {
   "cell_type": "code",
   "execution_count": 15,
   "metadata": {
    "collapsed": false
   },
   "outputs": [
    {
     "name": "stdout",
     "output_type": "stream",
     "text": [
      "[ 0. -0.  1.]\n"
     ]
    }
   ],
   "source": [
    "left = create_line(k=[1, 1, 0], p=[0, 0, 0])\n",
    "right = create_line(k=[-1, -1, 0], p=[1, 1, 4])\n",
    "print(lg.parallel_common_normal(left, right))"
   ]
  },
  {
   "cell_type": "code",
   "execution_count": 18,
   "metadata": {
    "collapsed": false
   },
   "outputs": [
    {
     "name": "stdout",
     "output_type": "stream",
     "text": [
      "[-0. -0.  1.]\n"
     ]
    }
   ],
   "source": [
    "# non parallel common normal\n",
    "left = create_line(k=[1, 1, 0], p=[0, 0, 0])\n",
    "right = create_line(k=[1, -1, 0], p=[1, -1, 4])\n",
    "print(lg.nonparallel_common_normal(left, right))"
   ]
  },
  {
   "cell_type": "code",
   "execution_count": 19,
   "metadata": {
    "collapsed": false
   },
   "outputs": [
    {
     "name": "stdout",
     "output_type": "stream",
     "text": [
      "[ 0.  0.  0.]\n"
     ]
    }
   ],
   "source": [
    "# common normal intersection\n",
    "left = create_line(k=[1, 1, 0], p=[0, 0, 0])\n",
    "right = create_line(k=[1, -1, 0], p=[1, -1, 4])\n",
    "cn = lg.nonparallel_common_normal(left, right)\n",
    "print(\"left to right\", lg.common_normal_intersection(left, right, cn)))\n",
    "print()"
   ]
  },
  {
   "cell_type": "code",
   "execution_count": 20,
   "metadata": {
    "collapsed": false
   },
   "outputs": [
    {
     "data": {
      "text/plain": [
       "array([-0., -0.,  1.])"
      ]
     },
     "execution_count": 20,
     "metadata": {},
     "output_type": "execute_result"
    }
   ],
   "source": [
    "cn"
   ]
  },
  {
   "cell_type": "code",
   "execution_count": null,
   "metadata": {
    "collapsed": true
   },
   "outputs": [],
   "source": []
  }
 ],
 "metadata": {
  "kernelspec": {
   "display_name": "Python [Root]",
   "language": "python",
   "name": "Python [Root]"
  },
  "language_info": {
   "codemirror_mode": {
    "name": "ipython",
    "version": 2
   },
   "file_extension": ".py",
   "mimetype": "text/x-python",
   "name": "python",
   "nbconvert_exporter": "python",
   "pygments_lexer": "ipython2",
   "version": "2.7.12"
  }
 },
 "nbformat": 4,
 "nbformat_minor": 0
}
