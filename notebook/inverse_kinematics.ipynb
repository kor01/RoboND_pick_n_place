{
 "cells": [
  {
   "cell_type": "code",
   "execution_count": 1,
   "metadata": {
    "collapsed": true
   },
   "outputs": [],
   "source": [
    "import numpy as np\n",
    "from manipulator_graph.kinematics_dag import KinematicsDag\n",
    "from manipulator_graph.kinematics_dag import joint_topology\n",
    "from manipulator_graph.kinematics_dag import partition_as_serial_dag\n",
    "from manipulator_graph import URDFParser\n",
    "from manipulator_graph.kinematics_dag import KinematicsDag\n",
    "parser = URDFParser('./kr210.urdf')\n",
    "dag = KinematicsDag(parser.joints)"
   ]
  },
  {
   "cell_type": "code",
   "execution_count": 2,
   "metadata": {
    "collapsed": true
   },
   "outputs": [],
   "source": [
    "def round_print(name, vec):\n",
    "    ret = np.around(vec, 4)\n",
    "    print name, ret"
   ]
  },
  {
   "cell_type": "code",
   "execution_count": 3,
   "metadata": {
    "collapsed": true
   },
   "outputs": [],
   "source": [
    "graph = dag[0].graph\n",
    "dh_parameter = graph.dh_parameter"
   ]
  },
  {
   "cell_type": "code",
   "execution_count": 4,
   "metadata": {
    "collapsed": false
   },
   "outputs": [
    {
     "data": {
      "text/plain": [
       "(DHValue(a=0.0, alpha=0, d=0.0, theta=0),\n",
       " DHValue(a=0.34999999999999998, alpha=-1.5707963267948966, d=0.0, theta=-1.5707963267948966),\n",
       " DHValue(a=1.25, alpha=0, d=0.0, theta=3.141592653589793),\n",
       " DHValue(a=0.053999999999999999, alpha=1.5707963267948966, d=1.5, theta=3.141592653589793),\n",
       " DHValue(a=0.0, alpha=1.5707963267948966, d=0.0, theta=3.141592653589793),\n",
       " DHValue(a=-0.0, alpha=1.5707963267948966, d=0.0, theta=0))"
      ]
     },
     "execution_count": 4,
     "metadata": {},
     "output_type": "execute_result"
    }
   ],
   "source": [
    "dh_parameter"
   ]
  },
  {
   "cell_type": "code",
   "execution_count": 5,
   "metadata": {
    "collapsed": false
   },
   "outputs": [
    {
     "name": "stdout",
     "output_type": "stream",
     "text": [
      "[u'joint_1', u'joint_2', u'joint_3', u'joint_4', u'joint_5', u'joint_6']\n"
     ]
    }
   ],
   "source": [
    "links = graph.dh_links\n",
    "joints = [x.joint for x in links]\n",
    "print joints"
   ]
  },
  {
   "cell_type": "code",
   "execution_count": 6,
   "metadata": {
    "collapsed": false
   },
   "outputs": [],
   "source": [
    "example_state = {x: 0 for x in joints}"
   ]
  },
  {
   "cell_type": "code",
   "execution_count": 7,
   "metadata": {
    "collapsed": true
   },
   "outputs": [],
   "source": [
    "forward = graph.forward(example_state)\n",
    "eef = forward[-1][1]"
   ]
  },
  {
   "cell_type": "code",
   "execution_count": 9,
   "metadata": {
    "collapsed": true
   },
   "outputs": [],
   "source": [
    "def extract_position(hm):\n",
    "    return hm[:3, 3]"
   ]
  },
  {
   "cell_type": "code",
   "execution_count": 12,
   "metadata": {
    "collapsed": true
   },
   "outputs": [],
   "source": [
    "def infer_waist_state(wc):\n",
    "    return np.arctan2(wc[1], wc[0])"
   ]
  },
  {
   "cell_type": "code",
   "execution_count": 14,
   "metadata": {
    "collapsed": true
   },
   "outputs": [],
   "source": [
    "import sympy as sp"
   ]
  },
  {
   "cell_type": "code",
   "execution_count": null,
   "metadata": {
    "collapsed": true
   },
   "outputs": [],
   "source": [
    "shoulder_position = 0\n",
    "upper_arm_length = 0\n",
    "lower_arm_length =\n",
    "def infer_elbow_state()"
   ]
  },
  {
   "cell_type": "code",
   "execution_count": 33,
   "metadata": {
    "collapsed": false
   },
   "outputs": [],
   "source": [
    "cos_shoulder = abs_shoulder\n",
    "abs_shoulder = np.arccos(cos_shoulder)"
   ]
  },
  {
   "cell_type": "code",
   "execution_count": 38,
   "metadata": {
    "collapsed": false
   },
   "outputs": [],
   "source": [
    "wc_angle = np.arctan2(wc_trans[0], wc_trans[2])"
   ]
  },
  {
   "cell_type": "code",
   "execution_count": 37,
   "metadata": {
    "collapsed": false
   },
   "outputs": [
    {
     "data": {
      "text/plain": [
       "0.7853981633974483"
      ]
     },
     "execution_count": 37,
     "metadata": {},
     "output_type": "execute_result"
    }
   ],
   "source": [
    "np.pi / 4"
   ]
  },
  {
   "cell_type": "code",
   "execution_count": 39,
   "metadata": {
    "collapsed": false
   },
   "outputs": [
    {
     "data": {
      "text/plain": [
       "-3.2489804232341653e-15"
      ]
     },
     "execution_count": 39,
     "metadata": {},
     "output_type": "execute_result"
    }
   ],
   "source": [
    "wc_angle"
   ]
  },
  {
   "cell_type": "code",
   "execution_count": 40,
   "metadata": {
    "collapsed": false
   },
   "outputs": [
    {
     "data": {
      "text/plain": [
       "array([ -3.88578059e-15,  -9.07250796e-25,   1.19600000e+00])"
      ]
     },
     "execution_count": 40,
     "metadata": {},
     "output_type": "execute_result"
    }
   ],
   "source": [
    "wc_trans"
   ]
  },
  {
   "cell_type": "code",
   "execution_count": 48,
   "metadata": {
    "collapsed": false
   },
   "outputs": [
    {
     "name": "stdout",
     "output_type": "stream",
     "text": [
      "fw [[-0.     0.     1.     1.85 ]\n",
      " [ 0.    -1.     0.     0.   ]\n",
      " [ 1.     0.     0.     1.946]\n",
      " [ 0.     0.     0.     1.   ]]\n"
     ]
    }
   ],
   "source": [
    "round_print('fw', forward[4][1])"
   ]
  },
  {
   "cell_type": "code",
   "execution_count": 47,
   "metadata": {
    "collapsed": false
   },
   "outputs": [
    {
     "name": "stdout",
     "output_type": "stream",
     "text": [
      "wc [ 0.35  -0.     1.946]\n"
     ]
    }
   ],
   "source": [
    "round_print('wc', wc)"
   ]
  },
  {
   "cell_type": "code",
   "execution_count": 29,
   "metadata": {
    "collapsed": false
   },
   "outputs": [
    {
     "name": "stdout",
     "output_type": "stream",
     "text": [
      "[u'joint_1', u'joint_2', u'joint_3', u'joint_4', u'joint_5', u'joint_6']\n",
      "{u'joint_6': 0, u'joint_4': 0, u'joint_5': 0, u'joint_2': 0, u'joint_3': 0, u'joint_1': 0}\n"
     ]
    }
   ],
   "source": [
    "links = graph.dh_links\n",
    "joints = [x.joint for x in links]\n",
    "print joints\n",
    "example_state = {x: 0 for x in joints}\n",
    "print example_state"
   ]
  },
  {
   "cell_type": "code",
   "execution_count": 30,
   "metadata": {
    "collapsed": true
   },
   "outputs": [],
   "source": [
    "urdf_forward = graph.forward(example_state, return_dh=False)\n",
    "forward = graph.forward(example_state)\n",
    "eef = urdf_forward[-1][1]\n",
    "eef_link = graph.fixed_links[-1]\n",
    "eef_trans = eef_link.rel"
   ]
  },
  {
   "cell_type": "code",
   "execution_count": 34,
   "metadata": {
    "collapsed": false
   },
   "outputs": [
    {
     "name": "stdout",
     "output_type": "stream",
     "text": [
      " [[ 1.    -0.    -0.     2.153]\n",
      " [ 0.     1.     0.     0.   ]\n",
      " [ 0.    -0.     1.     1.946]\n",
      " [ 0.     0.     0.     1.   ]]\n",
      " [[ 0.     0.    -1.     0.   ]\n",
      " [ 0.     1.     0.     0.   ]\n",
      " [ 1.     0.     0.     0.303]\n",
      " [ 0.     0.     0.     1.   ]]\n",
      "wc hm [[ 0.    -0.     1.     1.85 ]\n",
      " [-0.     1.     0.     0.   ]\n",
      " [-1.    -0.     0.     1.946]\n",
      " [ 0.     0.     0.     1.   ]]\n",
      "wc truth [[ 0.    -0.     1.     1.85 ]\n",
      " [-0.     1.     0.     0.   ]\n",
      " [-1.    -0.     0.     1.946]\n",
      " [ 0.     0.     0.     1.   ]]\n"
     ]
    }
   ],
   "source": [
    "def infer_wrist_center(hm_eff):\n",
    "    return np.matmul(hm_eff, np.linalg.inv(eef_trans))\n",
    "round_print('', eef)\n",
    "round_print('', eef_trans)\n",
    "wc = infer_wrist_center(eef)\n",
    "round_print('wc hm', wc)\n",
    "round_print('wc truth', forward[-1][1])"
   ]
  },
  {
   "cell_type": "code",
   "execution_count": 138,
   "metadata": {
    "collapsed": false
   },
   "outputs": [
    {
     "name": "stdout",
     "output_type": "stream",
     "text": [
      "waist 0.2\n"
     ]
    }
   ],
   "source": [
    "wc_pos = extract_position(wc)\n",
    "def infer_waist_state(pos):\n",
    "    return np.arctan2(pos[1], pos[0])\n",
    "waist_state = infer_waist_state(wc_pos)\n",
    "round_print('waist', waist_state)"
   ]
  },
  {
   "cell_type": "code",
   "execution_count": 139,
   "metadata": {
    "collapsed": false
   },
   "outputs": [
    {
     "name": "stdout",
     "output_type": "stream",
     "text": [
      "should_pos [ 0.35  0.    0.75]\n",
      "wc_rot [ 1.9511  0.      1.5213]\n",
      "wc_trans [ 1.6011  0.      0.7713]\n"
     ]
    }
   ],
   "source": [
    "# rotate the whole structure to x-z plane for geometric analysis\n",
    "rot = sp.rot_axis3(waist_state)\n",
    "rot = np.array(rot.tolist(), dtype=np.float32)\n",
    "wc_rot = np.matmul(rot, wc_pos)\n",
    "shoulder_position = extract_position(graph.dh_frames[2])\n",
    "wc_trans = wc_rot - shoulder_position\n",
    "round_print('should_pos', shoulder_position)\n",
    "round_print('wc_rot', wc_rot)\n",
    "round_print('wc_trans', wc_trans)"
   ]
  },
  {
   "cell_type": "code",
   "execution_count": 140,
   "metadata": {
    "collapsed": false
   },
   "outputs": [],
   "source": [
    "upper_arm_length = np.linalg.norm(extract_position(graph.dh_frames[3]) - extract_position(graph.dh_frames[2]))\n",
    "lower_arm_length = np.linalg.norm(extract_position(graph.dh_frames[4]) - extract_position(graph.dh_frames[3]))\n",
    "wc_norm = np.linalg.norm(wc_trans)\n",
    "abs_shoulder = (wc_norm ** 2 + upper_arm_length ** 2 -  lower_arm_length ** 2) / (2 * wc_norm * upper_arm_length)\n",
    "abs_shoulder = np.arccos(abs_shoulder)"
   ]
  },
  {
   "cell_type": "code",
   "execution_count": 141,
   "metadata": {
    "collapsed": false
   },
   "outputs": [],
   "source": [
    "wc_angle = np.arctan2(wc_trans[2], wc_trans[0])"
   ]
  },
  {
   "cell_type": "code",
   "execution_count": 142,
   "metadata": {
    "collapsed": false
   },
   "outputs": [
    {
     "data": {
      "text/plain": [
       "0.98184740938848736"
      ]
     },
     "execution_count": 142,
     "metadata": {},
     "output_type": "execute_result"
    }
   ],
   "source": [
    "abs_shoulder"
   ]
  },
  {
   "cell_type": "code",
   "execution_count": 143,
   "metadata": {
    "collapsed": false
   },
   "outputs": [],
   "source": [
    "upper_arm_length = np.linalg.norm(extract_position(forward[3][1]) - extract_position(forward[2][1]))\n",
    "lower_arm_length = np.linalg.norm(extract_position(forward[4][1]) - extract_position(forward[3][1]))"
   ]
  },
  {
   "cell_type": "code",
   "execution_count": 144,
   "metadata": {
    "collapsed": true
   },
   "outputs": [],
   "source": [
    "shoulder_solu1 = wc_angle + abs_shoulder\n",
    "shoulder_solu2 = wc_angle - abs_shoulder"
   ]
  },
  {
   "cell_type": "code",
   "execution_count": 145,
   "metadata": {
    "collapsed": false
   },
   "outputs": [],
   "source": [
    "def infer_shoulder_state(solu):\n",
    "    return np.pi / 2 - solu"
   ]
  },
  {
   "cell_type": "code",
   "execution_count": 166,
   "metadata": {
    "collapsed": false
   },
   "outputs": [],
   "source": [
    "shoulder_state = infer_shoulder_state(shoulder_solu1)"
   ]
  },
  {
   "cell_type": "code",
   "execution_count": 200,
   "metadata": {
    "collapsed": false
   },
   "outputs": [],
   "source": [
    "def forward_to_elbow(waist_state, shoulder_state):\n",
    "    base_frame = graph.dh_frames[0]\n",
    "    waist_hm = np.matmul(base_frame, graph.dh_links[0](waist_state))\n",
    "    shoulder_hm = np.matmul(waist_hm, graph.dh_links[1](shoulder_state))\n",
    "    elbow_zero = np.matmul(shoulder_hm, graph.dh_links[2](0))\n",
    "    elbow_axis = elbow_zero[:3, 2]\n",
    "    wc_zero = np.matmul(elbow_zero, graph.dh_links[3](0))\n",
    "    wc_zero = extract_position(wc_zero)\n",
    "    wc_elbow_zero = wc_zero - elbow_pos\n",
    "    return extract_position(elbow_zero), elbow_axis, wc_elbow_zero"
   ]
  },
  {
   "cell_type": "code",
   "execution_count": 201,
   "metadata": {
    "collapsed": false
   },
   "outputs": [
    {
     "name": "stdout",
     "output_type": "stream",
     "text": [
      "elbow_pos [ 0.514   0.1042  1.9878]\n",
      "elbow [ 0.514   0.1042  1.9878]\n",
      "wc_pos [ 1.9122  0.3876  1.5213]\n",
      "wc_pos_truth [ 1.9122  0.3876  1.5213]\n",
      "wc_elbow [ 1.3982  0.2834 -0.4664]\n"
     ]
    }
   ],
   "source": [
    "elbow_pos, elbow_axis, wc_elbow_zero = forward_to_elbow(waist_state, shoulder_state)\n",
    "round_print('elbow_pos', elbow_pos)\n",
    "round_print('elbow', extract_position(forward[3][1]))\n",
    "round_print('wc_pos', wc_pos)\n",
    "round_print('wc_pos_truth', extract_position(forward[4][1]))\n",
    "wc_elbow = wc_pos - elbow_pos\n",
    "round_print('wc_elbow', wc_elbow)"
   ]
  },
  {
   "cell_type": "code",
   "execution_count": 190,
   "metadata": {
    "collapsed": true
   },
   "outputs": [],
   "source": [
    "def inference_angle(left, right, reference):\n",
    "    \n",
    "    cosine = inner_prod(left, right)\n",
    "    lesser_angle = np.arctan2(\n",
    "        np.sqrt(1 - cosine * cosine), cosine)\n",
    "    if np.abs(lesser_angle) < ZERO_TOLERANCE:\n",
    "        angle = 0\n",
    "    # atan2 is not continuous around (-1, 0)\n",
    "    elif np.abs(lesser_angle - np.pi) < ZERO_TOLERANCE:\n",
    "        angle = np.pi\n",
    "    else:\n",
    "        ori = np.cross(left, right)\n",
    "        sign = np.sign(inner_prod(ori, reference))\n",
    "        angle = lesser_angle * sign\n",
    "    return angle"
   ]
  },
  {
   "cell_type": "code",
   "execution_count": 202,
   "metadata": {
    "collapsed": false
   },
   "outputs": [],
   "source": [
    "ZERO_TOLERANCE = 1e-6\n",
    "\n",
    "def normalize(k):\n",
    "  k = k / np.linalg.norm(k)\n",
    "  return k\n",
    "\n",
    "def inner_prod(a, b):\n",
    "    return (a * b).sum(axis=-1)\n",
    "\n",
    "angle = inference_angle(normalize(wc_elbow_zero),normalize(wc_elbow), normalize(elbow_axis))"
   ]
  },
  {
   "cell_type": "code",
   "execution_count": 203,
   "metadata": {
    "collapsed": false
   },
   "outputs": [
    {
     "name": "stdout",
     "output_type": "stream",
     "text": [
      "0.139999975635\n"
     ]
    }
   ],
   "source": [
    "print angle"
   ]
  },
  {
   "cell_type": "code",
   "execution_count": null,
   "metadata": {
    "collapsed": true
   },
   "outputs": [],
   "source": []
  }
 ],
 "metadata": {
  "kernelspec": {
   "display_name": "Python [Root]",
   "language": "python",
   "name": "Python [Root]"
  },
  "language_info": {
   "codemirror_mode": {
    "name": "ipython",
    "version": 2
   },
   "file_extension": ".py",
   "mimetype": "text/x-python",
   "name": "python",
   "nbconvert_exporter": "python",
   "pygments_lexer": "ipython2",
   "version": "2.7.12"
  }
 },
 "nbformat": 4,
 "nbformat_minor": 0
}
