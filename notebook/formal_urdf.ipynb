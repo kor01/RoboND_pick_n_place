{
 "cells": [
  {
   "cell_type": "code",
   "execution_count": 1,
   "metadata": {
    "collapsed": true
   },
   "outputs": [],
   "source": [
    "from urdf_parser_py.urdf import URDF"
   ]
  },
  {
   "cell_type": "code",
   "execution_count": 3,
   "metadata": {
    "collapsed": false
   },
   "outputs": [
    {
     "name": "stderr",
     "output_type": "stream",
     "text": [
      "Unknown tag: hardwareInterface\n",
      "Unknown tag: hardwareInterface\n",
      "Unknown tag: hardwareInterface\n",
      "Unknown tag: hardwareInterface\n",
      "Unknown tag: hardwareInterface\n",
      "Unknown tag: hardwareInterface\n",
      "Unknown tag: hardwareInterface\n",
      "Unknown tag: hardwareInterface\n"
     ]
    }
   ],
   "source": [
    "robot = URDF.from_xml_file('/home/pu/notebooks/pick_n_place/kr210.urdf')"
   ]
  },
  {
   "cell_type": "code",
   "execution_count": 13,
   "metadata": {
    "collapsed": false
   },
   "outputs": [],
   "source": [
    "import rospy"
   ]
  },
  {
   "cell_type": "code",
   "execution_count": 11,
   "metadata": {
    "collapsed": false
   },
   "outputs": [
    {
     "data": {
      "text/plain": [
       "-0.01"
      ]
     },
     "execution_count": 11,
     "metadata": {},
     "output_type": "execute_result"
    }
   ],
   "source": [
    "j.limit.lower"
   ]
  },
  {
   "cell_type": "code",
   "execution_count": 14,
   "metadata": {
    "collapsed": true
   },
   "outputs": [],
   "source": [
    "param = rospy.get_param('robot_description')"
   ]
  },
  {
   "cell_type": "code",
   "execution_count": 16,
   "metadata": {
    "collapsed": false
   },
   "outputs": [],
   "source": [
    "from manipulator_graph import URDFParser"
   ]
  },
  {
   "cell_type": "code",
   "execution_count": 17,
   "metadata": {
    "collapsed": true
   },
   "outputs": [],
   "source": [
    "parser = URDFParser(data=param)"
   ]
  },
  {
   "cell_type": "code",
   "execution_count": 18,
   "metadata": {
    "collapsed": false
   },
   "outputs": [
    {
     "data": {
      "text/plain": [
       "<manipulator_graph.urdf_parser.URDFParser at 0x7f0f54535c50>"
      ]
     },
     "execution_count": 18,
     "metadata": {},
     "output_type": "execute_result"
    }
   ],
   "source": [
    "parser"
   ]
  },
  {
   "cell_type": "code",
   "execution_count": 19,
   "metadata": {
    "collapsed": false
   },
   "outputs": [
    {
     "data": {
      "text/plain": [
       "(Joint(name=u'right_gripper_finger_joint', position=array([ 0.15  , -0.0725,  0.    ]), orientation=array([ 0.,  0.,  0.]), axis=array([ 0.,  1.,  0.]), type=u'prismatic', parent=Link(name=u'gripper_link', position=array([ 0.,  0.,  0.]), orientation=array([ 0.,  0.,  0.]), mass=0.3, inertia=array([[ 0.0001,  0.    ,  0.    ],\n",
       "       [ 0.    ,  0.0002,  0.    ],\n",
       "       [ 0.    ,  0.    ,  0.0001]])), child=Link(name=u'right_gripper_finger_link', position=array([ 0.,  0.,  0.]), orientation=array([ 0.,  0.,  0.]), mass=0.1, inertia=array([[ 0.002 ,  0.    ,  0.    ],\n",
       "       [ 0.    ,  0.0002,  0.    ],\n",
       "       [ 0.    ,  0.    ,  0.0002]])), limits=None),\n",
       " Joint(name=u'left_gripper_finger_joint', position=array([ 0.15  ,  0.0725,  0.    ]), orientation=array([ 0.,  0.,  0.]), axis=array([ 0., -1.,  0.]), type=u'prismatic', parent=Link(name=u'gripper_link', position=array([ 0.,  0.,  0.]), orientation=array([ 0.,  0.,  0.]), mass=0.3, inertia=array([[ 0.0001,  0.    ,  0.    ],\n",
       "       [ 0.    ,  0.0002,  0.    ],\n",
       "       [ 0.    ,  0.    ,  0.0001]])), child=Link(name=u'left_gripper_finger_link', position=array([ 0.,  0.,  0.]), orientation=array([ 0.,  0.,  0.]), mass=0.1, inertia=array([[ 0.002 ,  0.    ,  0.    ],\n",
       "       [ 0.    ,  0.0002,  0.    ],\n",
       "       [ 0.    ,  0.    ,  0.0002]])), limits=None),\n",
       " Joint(name=u'gripper_joint', position=array([ 0.11,  0.  ,  0.  ]), orientation=array([ 0.,  0.,  0.]), axis=None, type=u'fixed', parent=Link(name=u'link_6', position=array([ 0.,  0.,  0.]), orientation=array([ 0.,  0.,  0.]), mass=0.5, inertia=array([[ 0.004,  0.   ,  0.   ],\n",
       "       [ 0.   ,  0.003,  0.   ],\n",
       "       [ 0.   ,  0.   ,  0.003]])), child=Link(name=u'gripper_link', position=array([ 0.,  0.,  0.]), orientation=array([ 0.,  0.,  0.]), mass=0.3, inertia=array([[ 0.0001,  0.    ,  0.    ],\n",
       "       [ 0.    ,  0.0002,  0.    ],\n",
       "       [ 0.    ,  0.    ,  0.0001]])), limits=None),\n",
       " Joint(name=u'fixed_base_joint', position=array([ 0.,  0.,  0.]), orientation=array([ 0.,  0.,  0.]), axis=None, type=u'fixed', parent=Link(name=u'base_footprint', position=array([ 0.,  0.,  0.]), orientation=array([ 0.,  0.,  0.]), mass=None, inertia=None), child=Link(name=u'base_link', position=array([ 0.,  0.,  0.]), orientation=array([ 0.,  0.,  0.]), mass=150.0, inertia=array([[  60.,    0.,    0.],\n",
       "       [   0.,   70.,    0.],\n",
       "       [   0.,    0.,  100.]])), limits=None),\n",
       " Joint(name=u'joint_1', position=array([ 0.  ,  0.  ,  0.33]), orientation=array([ 0.,  0.,  0.]), axis=array([ 0.,  0.,  1.]), type=u'revolute', parent=Link(name=u'base_link', position=array([ 0.,  0.,  0.]), orientation=array([ 0.,  0.,  0.]), mass=150.0, inertia=array([[  60.,    0.,    0.],\n",
       "       [   0.,   70.,    0.],\n",
       "       [   0.,    0.,  100.]])), child=Link(name=u'link_1', position=array([ 0. ,  0. ,  0.4]), orientation=array([ 0.,  0.,  0.]), mass=138.0, inertia=array([[ 30.,   0.,   0.],\n",
       "       [  0.,  50.,   0.],\n",
       "       [  0.,   0.,  50.]])), limits=None),\n",
       " Joint(name=u'joint_2', position=array([ 0.35,  0.  ,  0.42]), orientation=array([ 0.,  0.,  0.]), axis=array([ 0.,  1.,  0.]), type=u'revolute', parent=Link(name=u'link_1', position=array([ 0. ,  0. ,  0.4]), orientation=array([ 0.,  0.,  0.]), mass=138.0, inertia=array([[ 30.,   0.,   0.],\n",
       "       [  0.,  50.,   0.],\n",
       "       [  0.,   0.,  50.]])), child=Link(name=u'link_2', position=array([ 0.     ,  0.     ,  0.44751]), orientation=array([ 0.,  0.,  0.]), mass=95.0, inertia=array([[ 40.,   0.,   0.],\n",
       "       [  0.,  40.,   0.],\n",
       "       [  0.,   0.,  10.]])), limits=None),\n",
       " Joint(name=u'joint_3', position=array([ 0.  ,  0.  ,  1.25]), orientation=array([ 0.,  0.,  0.]), axis=array([ 0.,  1.,  0.]), type=u'revolute', parent=Link(name=u'link_2', position=array([ 0.     ,  0.     ,  0.44751]), orientation=array([ 0.,  0.,  0.]), mass=95.0, inertia=array([[ 40.,   0.,   0.],\n",
       "       [  0.,  40.,   0.],\n",
       "       [  0.,   0.,  10.]])), child=Link(name=u'link_3', position=array([ 0.18842 ,  0.18344 , -0.042799]), orientation=array([ 0.,  0.,  0.]), mass=71.0, inertia=array([[  1.,   0.,   0.],\n",
       "       [  0.,  10.,   0.],\n",
       "       [  0.,   0.,  10.]])), limits=None),\n",
       " Joint(name=u'joint_4', position=array([ 0.96 ,  0.   , -0.054]), orientation=array([ 0.,  0.,  0.]), axis=array([ 1.,  0.,  0.]), type=u'revolute', parent=Link(name=u'link_3', position=array([ 0.18842 ,  0.18344 , -0.042799]), orientation=array([ 0.,  0.,  0.]), mass=71.0, inertia=array([[  1.,   0.,   0.],\n",
       "       [  0.,  10.,   0.],\n",
       "       [  0.,   0.,  10.]])), child=Link(name=u'link_4', position=array([ 0.27146 , -0.007326,  0.      ]), orientation=array([ 0.,  0.,  0.]), mass=17.0, inertia=array([[ 0.18,  0.  ,  0.  ],\n",
       "       [ 0.  ,  0.55,  0.  ],\n",
       "       [ 0.  ,  0.  ,  0.64]])), limits=None),\n",
       " Joint(name=u'joint_5', position=array([ 0.54,  0.  ,  0.  ]), orientation=array([ 0.,  0.,  0.]), axis=array([ 0.,  1.,  0.]), type=u'revolute', parent=Link(name=u'link_4', position=array([ 0.27146 , -0.007326,  0.      ]), orientation=array([ 0.,  0.,  0.]), mass=17.0, inertia=array([[ 0.18,  0.  ,  0.  ],\n",
       "       [ 0.  ,  0.55,  0.  ],\n",
       "       [ 0.  ,  0.  ,  0.64]])), child=Link(name=u'link_5', position=array([ 0.,  0.,  0.]), orientation=array([ 0.,  0.,  0.]), mass=7.0, inertia=array([[ 0.04 ,  0.   ,  0.   ],\n",
       "       [ 0.   ,  0.068,  0.   ],\n",
       "       [ 0.   ,  0.   ,  0.068]])), limits=None),\n",
       " Joint(name=u'joint_6', position=array([ 0.193,  0.   ,  0.   ]), orientation=array([ 0.,  0.,  0.]), axis=array([ 1.,  0.,  0.]), type=u'revolute', parent=Link(name=u'link_5', position=array([ 0.,  0.,  0.]), orientation=array([ 0.,  0.,  0.]), mass=7.0, inertia=array([[ 0.04 ,  0.   ,  0.   ],\n",
       "       [ 0.   ,  0.068,  0.   ],\n",
       "       [ 0.   ,  0.   ,  0.068]])), child=Link(name=u'link_6', position=array([ 0.,  0.,  0.]), orientation=array([ 0.,  0.,  0.]), mass=0.5, inertia=array([[ 0.004,  0.   ,  0.   ],\n",
       "       [ 0.   ,  0.003,  0.   ],\n",
       "       [ 0.   ,  0.   ,  0.003]])), limits=None))"
      ]
     },
     "execution_count": 19,
     "metadata": {},
     "output_type": "execute_result"
    }
   ],
   "source": [
    "parser.joints"
   ]
  },
  {
   "cell_type": "code",
   "execution_count": null,
   "metadata": {
    "collapsed": true
   },
   "outputs": [],
   "source": []
  }
 ],
 "metadata": {
  "kernelspec": {
   "display_name": "Python [Root]",
   "language": "python",
   "name": "Python [Root]"
  },
  "language_info": {
   "codemirror_mode": {
    "name": "ipython",
    "version": 2
   },
   "file_extension": ".py",
   "mimetype": "text/x-python",
   "name": "python",
   "nbconvert_exporter": "python",
   "pygments_lexer": "ipython2",
   "version": "2.7.12"
  }
 },
 "nbformat": 4,
 "nbformat_minor": 0
}
