{
 "cells": [
  {
   "cell_type": "code",
   "execution_count": 1,
   "metadata": {
    "collapsed": false
   },
   "outputs": [],
   "source": [
    "from manipulator_graph import URDFParser\n",
    "from manipulator_graph import sort_joints"
   ]
  },
  {
   "cell_type": "code",
   "execution_count": 11,
   "metadata": {
    "collapsed": false
   },
   "outputs": [],
   "source": [
    "parser = URDFParser('./kr210.urdf')\n",
    "joints = [j for j in parser.joints if 'gripper' not in j.name]\n",
    "joints = sort_joints(joints)"
   ]
  },
  {
   "cell_type": "code",
   "execution_count": 14,
   "metadata": {
    "collapsed": false
   },
   "outputs": [
    {
     "data": {
      "text/plain": [
       "Joint(name=u'fixed_base_joint', position=array([ 0.,  0.,  0.]), orientation=array([ 0.,  0.,  0.]), axis=None, type=u'fixed', parent=Link(name=u'base_footprint', position=array([ 0.,  0.,  0.]), orientation=array([ 0.,  0.,  0.]), mass=None, inertia=None), child=Link(name=u'base_link', position=array([ 0.,  0.,  0.]), orientation=array([ 0.,  0.,  0.]), mass=150.0, inertia=array([[  60.,    0.,    0.],\n",
       "       [   0.,   70.,    0.],\n",
       "       [   0.,    0.,  100.]])), limits=None)"
      ]
     },
     "execution_count": 14,
     "metadata": {},
     "output_type": "execute_result"
    }
   ],
   "source": [
    "joints[0]"
   ]
  },
  {
   "cell_type": "code",
   "execution_count": null,
   "metadata": {
    "collapsed": true
   },
   "outputs": [],
   "source": []
  }
 ],
 "metadata": {
  "kernelspec": {
   "display_name": "Python [Root]",
   "language": "python",
   "name": "Python [Root]"
  },
  "language_info": {
   "codemirror_mode": {
    "name": "ipython",
    "version": 2
   },
   "file_extension": ".py",
   "mimetype": "text/x-python",
   "name": "python",
   "nbconvert_exporter": "python",
   "pygments_lexer": "ipython2",
   "version": "2.7.12"
  }
 },
 "nbformat": 4,
 "nbformat_minor": 0
}
