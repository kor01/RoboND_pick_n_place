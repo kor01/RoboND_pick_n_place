{
 "cells": [
  {
   "cell_type": "code",
   "execution_count": 1,
   "metadata": {
    "collapsed": true
   },
   "outputs": [],
   "source": [
    "import numpy as np"
   ]
  },
  {
   "cell_type": "code",
   "execution_count": 3,
   "metadata": {},
   "outputs": [],
   "source": [
    "def cross_skew_matrix(omega):\n",
    "  x, y, z = omega\n",
    "  ret = [[0, -z, y], [z, 0, -x], [-y, x, 0]]\n",
    "  return np.array(ret)"
   ]
  },
  {
   "cell_type": "code",
   "execution_count": 4,
   "metadata": {},
   "outputs": [
    {
     "name": "stdout",
     "output_type": "stream",
     "text": [
      "[-3.  6. -3.]\n"
     ]
    }
   ],
   "source": [
    "a = np.array([1, 2, 3], dtype=np.float64)\n",
    "b = np.array([4, 5, 6], dtype=np.float64)\n",
    "print(np.cross(a, b))"
   ]
  },
  {
   "cell_type": "code",
   "execution_count": 5,
   "metadata": {},
   "outputs": [
    {
     "name": "stdout",
     "output_type": "stream",
     "text": [
      "[-3.  6. -3.]\n"
     ]
    }
   ],
   "source": [
    "mat = cross_skew_matrix(a)\n",
    "print np.matmul(mat, b)"
   ]
  },
  {
   "cell_type": "code",
   "execution_count": 27,
   "metadata": {},
   "outputs": [],
   "source": [
    "def solve_planar_intersection(line1, line2):\n",
    "  p1, k1 = line1\n",
    "  p2, k2 = line2\n",
    "  omega1 = cross_skew_matrix(k1)\n",
    "  omega2 = cross_skew_matrix(k2)\n",
    "  w = np.vstack([omega1, omega2])\n",
    "  b1 = np.cross(k1, p1)\n",
    "  b2 = np.cross(k2, p2)\n",
    "  b = np.concatenate((b1, b2), axis=-1)\n",
    "  ret = np.linalg.lstsq(w, b)[0]\n",
    "  return ret"
   ]
  },
  {
   "cell_type": "code",
   "execution_count": 30,
   "metadata": {
    "collapsed": false
   },
   "outputs": [
    {
     "data": {
      "text/plain": [
       "array([-1.,  0.,  0.])"
      ]
     },
     "execution_count": 30,
     "metadata": {},
     "output_type": "execute_result"
    }
   ],
   "source": [
    "p1 = np.array([0., 0., 0.])\n",
    "p2 = np.array([0., 1., 0.])\n",
    "k1 = np.array([1.0, 0, 0])\n",
    "k2 = np.array([-1., -1., 0])\n",
    "solve_planar_intersection((p1, k1), (p2, k2))"
   ]
  },
  {
   "cell_type": "code",
   "execution_count": null,
   "metadata": {},
   "outputs": [],
   "source": [
    ""
   ]
  }
 ],
 "metadata": {
  "kernelspec": {
   "display_name": "Python 2",
   "language": "python",
   "name": "python2"
  },
  "language_info": {
   "codemirror_mode": {
    "name": "ipython",
    "version": 2.0
   },
   "file_extension": ".py",
   "mimetype": "text/x-python",
   "name": "python",
   "nbconvert_exporter": "python",
   "pygments_lexer": "ipython2",
   "version": "2.7.6"
  }
 },
 "nbformat": 4,
 "nbformat_minor": 0
}