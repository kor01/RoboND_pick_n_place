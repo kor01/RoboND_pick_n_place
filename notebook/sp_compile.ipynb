{
 "cells": [
  {
   "cell_type": "code",
   "execution_count": 1,
   "metadata": {
    "collapsed": true
   },
   "outputs": [],
   "source": [
    "from sympy.utilities.autowrap import autowrap\n",
    "import sympy as sp\n",
    "from manipulator_graph.serial_subgraph import homogenous_transform"
   ]
  },
  {
   "cell_type": "code",
   "execution_count": 13,
   "metadata": {
    "collapsed": true
   },
   "outputs": [],
   "source": [
    "def compile_rpy_to_homogenous():\n",
    "  rpy = sp.symbols('roll, pitch, yaw')\n",
    "  xyz = sp.symbols('x, y, z')\n",
    "  hm = homogenous_transform(rpy, xyz, to_numeric=False)\n",
    "  return autowrap(hm, args=rpy + xyz)\n"
   ]
  },
  {
   "cell_type": "code",
   "execution_count": 14,
   "metadata": {
    "collapsed": false
   },
   "outputs": [],
   "source": [
    "rpy_to_homogenous = compile_rpy_to_homogenous()"
   ]
  },
  {
   "cell_type": "code",
   "execution_count": 15,
   "metadata": {
    "collapsed": false
   },
   "outputs": [
    {
     "data": {
      "text/plain": [
       "array([[ 0.29192658, -0.07207501,  0.95372117,  0.        ],\n",
       "       [ 0.45464871,  0.88774982, -0.07207501,  0.        ],\n",
       "       [-0.84147098,  0.45464871,  0.29192658,  0.        ],\n",
       "       [ 0.        ,  0.        ,  0.        ,  1.        ]])"
      ]
     },
     "execution_count": 15,
     "metadata": {},
     "output_type": "execute_result"
    }
   ],
   "source": [
    "rpy_to_homogenous(1, 1, 1, 0, 0, 0)"
   ]
  },
  {
   "cell_type": "code",
   "execution_count": 16,
   "metadata": {
    "collapsed": false
   },
   "outputs": [
    {
     "name": "stdout",
     "output_type": "stream",
     "text": [
      "out_3587089535940296210 = autofunc(roll,pitch,yaw,x,y,z)\n",
      "\n",
      "Wrapper for ``autofunc``.\n",
      "\n",
      "Parameters\n",
      "----------\n",
      "roll : input float\n",
      "pitch : input float\n",
      "yaw : input float\n",
      "x : input float\n",
      "y : input float\n",
      "z : input float\n",
      "\n",
      "Returns\n",
      "-------\n",
      "out_3587089535940296210 : rank-2 array('d') with bounds (4,4)\n",
      "\n"
     ]
    }
   ],
   "source": [
    "print rpy_to_homogenous.__doc__"
   ]
  },
  {
   "cell_type": "code",
   "execution_count": null,
   "metadata": {
    "collapsed": true
   },
   "outputs": [],
   "source": []
  }
 ],
 "metadata": {
  "kernelspec": {
   "display_name": "Python [Root]",
   "language": "python",
   "name": "Python [Root]"
  },
  "language_info": {
   "codemirror_mode": {
    "name": "ipython",
    "version": 2
   },
   "file_extension": ".py",
   "mimetype": "text/x-python",
   "name": "python",
   "nbconvert_exporter": "python",
   "pygments_lexer": "ipython2",
   "version": "2.7.12"
  }
 },
 "nbformat": 4,
 "nbformat_minor": 0
}
