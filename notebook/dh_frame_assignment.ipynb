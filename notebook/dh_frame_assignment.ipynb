{
 "cells": [
  {
   "cell_type": "code",
   "execution_count": 1,
   "metadata": {
    "collapsed": false
   },
   "outputs": [],
   "source": [
    "import numpy as np\n",
    "import sympy as sp\n",
    "from manipulator_graph import frame_inference as fi\n",
    "from manipulator_graph import URDFParser\n",
    "from manipulator_graph import sort_joints\n",
    "from manipulator_graph import line_geometry as lg\n",
    "from manipulator_graph import parameter_inference as pi"
   ]
  },
  {
   "cell_type": "code",
   "execution_count": 2,
   "metadata": {
    "collapsed": true
   },
   "outputs": [],
   "source": [
    "parser = URDFParser('./kr210.urdf')\n",
    "joints = [j for j in parser.joints if 'gripper' not in j.name]\n",
    "joints = sort_joints(joints)\n",
    "axis = [j.axis for j in joints]\n",
    "position = [j.position for j in joints]"
   ]
  },
  {
   "cell_type": "code",
   "execution_count": 3,
   "metadata": {
    "collapsed": false,
    "scrolled": false
   },
   "outputs": [],
   "source": [
    "# create joint line plot from\n",
    "def joint_axis(joints):\n",
    "    for j in joints:\n",
    "        if j.axis is None:\n",
    "            continue\n",
    "        axis = lg.Line(k=j.axis, )\n",
    "        \n",
    "\n",
    "def homogenous_transfrom(rpy, origin):\n",
    "    x_rot = sp.rot_axis1(rpy[0])\n",
    "    y_rot = sp.rot_axis2(rpy[1])\n",
    "    z_rot = sp.rot_axis3(rpy[2])\n",
    "    origin = sp.Matrix(origin)\n",
    "    rot = z_rot * y_rot * x_rot\n",
    "    rot = rot.row_join(origin)\n",
    "    rot = rot.col_join(sp.Matrix([[0, 0, 0, 1]]))\n",
    "    rot = sp.simplify(rot)\n",
    "    rot = np.array(rot.tolist(), dtype=np.float64)\n",
    "    return rot\n"
   ]
  },
  {
   "cell_type": "code",
   "execution_count": 4,
   "metadata": {
    "collapsed": false
   },
   "outputs": [],
   "source": [
    "def inference_frames(joints):\n",
    "    frame = np.eye(4)\n",
    "    ret = []\n",
    "    for j in joints:\n",
    "        frame = np.matmul(frame, homogenous_transfrom(\n",
    "                j.orientation, j.position))\n",
    "        ret.append(frame)\n",
    "    return ret"
   ]
  },
  {
   "cell_type": "code",
   "execution_count": 5,
   "metadata": {
    "collapsed": false
   },
   "outputs": [],
   "source": [
    "ret = inference_frames(joints[1:])"
   ]
  },
  {
   "cell_type": "code",
   "execution_count": 6,
   "metadata": {
    "collapsed": true
   },
   "outputs": [],
   "source": [
    "def absolute_axis(axes, frames):\n",
    "    assert len(axes) == len(frames)\n",
    "    ret = []\n",
    "    for a, f in zip(axes, frames):\n",
    "        line = lg.Line(k=np.matmul(f[:3, :3], a), p=f[:3, -1])\n",
    "        ret.append(line)\n",
    "    return ret"
   ]
  },
  {
   "cell_type": "code",
   "execution_count": 7,
   "metadata": {
    "collapsed": false
   },
   "outputs": [],
   "source": [
    "abs_axis = absolute_axis(axis[1:], ret)"
   ]
  },
  {
   "cell_type": "code",
   "execution_count": 8,
   "metadata": {
    "collapsed": false
   },
   "outputs": [
    {
     "name": "stdout",
     "output_type": "stream",
     "text": [
      "Line(p=array([ 0.35,  0.  ,  0.75]), k=array([ 0.,  1.,  0.])) Line(p=array([ 0.35,  0.  ,  2.  ]), k=array([ 0.,  1.,  0.]))\n",
      "[ 1. -0. -0.] [ 0.    0.    0.75]\n"
     ]
    }
   ],
   "source": [
    "dh_frames = fi.assign_dh_frames(abs_axis)"
   ]
  },
  {
   "cell_type": "code",
   "execution_count": 9,
   "metadata": {
    "collapsed": false
   },
   "outputs": [],
   "source": [
    "dh_params = pi.inference_dh_parameters(dh_frames)"
   ]
  },
  {
   "cell_type": "code",
   "execution_count": 25,
   "metadata": {
    "collapsed": false
   },
   "outputs": [],
   "source": [
    "def dh_frame_to_homogenous(frame):\n",
    "    y = np.cross(frame.z, frame.x)\n",
    "    mat = np.array([frame.x, y, frame.z]).transpose()\n",
    "    mat = np.hstack((mat, frame.o.reshape(-1, 1)))\n",
    "    mat = np.vstack((mat, (0, 0, 0, 1)))\n",
    "    return mat"
   ]
  },
  {
   "cell_type": "code",
   "execution_count": 27,
   "metadata": {
    "collapsed": false
   },
   "outputs": [
    {
     "data": {
      "text/plain": [
       "array([[ 1.  ,  0.  ,  0.  ,  0.  ],\n",
       "       [-0.  ,  1.  ,  0.  ,  0.  ],\n",
       "       [-0.  , -0.  ,  1.  ,  0.75],\n",
       "       [ 0.  ,  0.  ,  0.  ,  1.  ]])"
      ]
     },
     "execution_count": 27,
     "metadata": {},
     "output_type": "execute_result"
    }
   ],
   "source": [
    "dh_frame_to_homogenous(dh_frames[1])"
   ]
  },
  {
   "cell_type": "code",
   "execution_count": 28,
   "metadata": {
    "collapsed": false
   },
   "outputs": [
    {
     "data": {
      "text/plain": [
       "DHFrame(z=array([ 0.,  0.,  1.]), x=array([ 1., -0., -0.]), o=array([ 0.  ,  0.  ,  0.75]))"
      ]
     },
     "execution_count": 28,
     "metadata": {},
     "output_type": "execute_result"
    }
   ],
   "source": [
    "dh_frames[1]"
   ]
  },
  {
   "cell_type": "code",
   "execution_count": 34,
   "metadata": {
    "collapsed": false
   },
   "outputs": [
    {
     "data": {
      "text/plain": [
       "Joint(name=u'joint_2', position=array([ 0.35,  0.  ,  0.42]), orientation=array([ 0.,  0.,  0.]), axis=array([ 0.,  1.,  0.]), type=u'revolute', parent=Link(name=u'link_1', position=array([ 0. ,  0. ,  0.4]), orientation=array([ 0.,  0.,  0.]), mass=138.0, inertia=array([[ 30.,   0.,   0.],\n",
       "       [  0.,  50.,   0.],\n",
       "       [  0.,   0.,  50.]])), child=Link(name=u'link_2', position=array([ 0.     ,  0.     ,  0.44751]), orientation=array([ 0.,  0.,  0.]), mass=95.0, inertia=array([[ 40.,   0.,   0.],\n",
       "       [  0.,  40.,   0.],\n",
       "       [  0.,   0.,  10.]])), limits=None)"
      ]
     },
     "execution_count": 34,
     "metadata": {},
     "output_type": "execute_result"
    }
   ],
   "source": [
    "joints[2]"
   ]
  },
  {
   "cell_type": "code",
   "execution_count": 35,
   "metadata": {
    "collapsed": false
   },
   "outputs": [
    {
     "data": {
      "text/plain": [
       "DHFrame(z=array([ 0.,  0.,  1.]), x=array([ 1., -0., -0.]), o=array([ 0.  ,  0.  ,  0.75]))"
      ]
     },
     "execution_count": 35,
     "metadata": {},
     "output_type": "execute_result"
    }
   ],
   "source": [
    "dh_frames[1]"
   ]
  },
  {
   "cell_type": "code",
   "execution_count": 36,
   "metadata": {
    "collapsed": false
   },
   "outputs": [
    {
     "data": {
      "text/plain": [
       "Line(p=array([ 0.35,  0.  ,  0.75]), k=array([ 0.,  1.,  0.]))"
      ]
     },
     "execution_count": 36,
     "metadata": {},
     "output_type": "execute_result"
    }
   ],
   "source": [
    "abs_axis[1]"
   ]
  },
  {
   "cell_type": "code",
   "execution_count": 37,
   "metadata": {
    "collapsed": false
   },
   "outputs": [
    {
     "data": {
      "text/plain": [
       "Joint(name=u'joint_1', position=array([ 0.  ,  0.  ,  0.33]), orientation=array([ 0.,  0.,  0.]), axis=array([ 0.,  0.,  1.]), type=u'revolute', parent=Link(name=u'base_link', position=array([ 0.,  0.,  0.]), orientation=array([ 0.,  0.,  0.]), mass=150.0, inertia=array([[  60.,    0.,    0.],\n",
       "       [   0.,   70.,    0.],\n",
       "       [   0.,    0.,  100.]])), child=Link(name=u'link_1', position=array([ 0. ,  0. ,  0.4]), orientation=array([ 0.,  0.,  0.]), mass=138.0, inertia=array([[ 30.,   0.,   0.],\n",
       "       [  0.,  50.,   0.],\n",
       "       [  0.,   0.,  50.]])), limits=None)"
      ]
     },
     "execution_count": 37,
     "metadata": {},
     "output_type": "execute_result"
    }
   ],
   "source": [
    "joints[1]"
   ]
  },
  {
   "cell_type": "code",
   "execution_count": 42,
   "metadata": {
    "collapsed": false
   },
   "outputs": [
    {
     "data": {
      "text/plain": [
       "DHFrame(z=array([ 0.,  1.,  0.]), x=array([-0., -0.,  1.]), o=array([ 0.  ,  0.  ,  0.75]))"
      ]
     },
     "execution_count": 42,
     "metadata": {},
     "output_type": "execute_result"
    }
   ],
   "source": [
    "dh_frames[2]"
   ]
  },
  {
   "cell_type": "code",
   "execution_count": 39,
   "metadata": {
    "collapsed": false
   },
   "outputs": [
    {
     "data": {
      "text/plain": [
       "7"
      ]
     },
     "execution_count": 39,
     "metadata": {},
     "output_type": "execute_result"
    }
   ],
   "source": [
    "len(dh_frames)"
   ]
  },
  {
   "cell_type": "code",
   "execution_count": 43,
   "metadata": {
    "collapsed": false
   },
   "outputs": [
    {
     "data": {
      "text/plain": [
       "7"
      ]
     },
     "execution_count": 43,
     "metadata": {},
     "output_type": "execute_result"
    }
   ],
   "source": [
    "len(joints)"
   ]
  },
  {
   "cell_type": "code",
   "execution_count": 45,
   "metadata": {
    "collapsed": false
   },
   "outputs": [
    {
     "data": {
      "text/plain": [
       "Joint(name=u'fixed_base_joint', position=array([ 0.,  0.,  0.]), orientation=array([ 0.,  0.,  0.]), axis=None, type=u'fixed', parent=Link(name=u'base_footprint', position=array([ 0.,  0.,  0.]), orientation=array([ 0.,  0.,  0.]), mass=None, inertia=None), child=Link(name=u'base_link', position=array([ 0.,  0.,  0.]), orientation=array([ 0.,  0.,  0.]), mass=150.0, inertia=array([[  60.,    0.,    0.],\n",
       "       [   0.,   70.,    0.],\n",
       "       [   0.,    0.,  100.]])), limits=None)"
      ]
     },
     "execution_count": 45,
     "metadata": {},
     "output_type": "execute_result"
    }
   ],
   "source": [
    "joints[0]"
   ]
  },
  {
   "cell_type": "code",
   "execution_count": 9,
   "metadata": {
    "collapsed": false
   },
   "outputs": [
    {
     "data": {
      "text/plain": [
       "DHFrame(z=array([ 0.,  1.,  0.]), x=array([-0., -0.,  1.]), o=array([ 0.35,  0.  ,  0.75]))"
      ]
     },
     "execution_count": 9,
     "metadata": {},
     "output_type": "execute_result"
    }
   ],
   "source": [
    "dh_frames[2]"
   ]
  },
  {
   "cell_type": "code",
   "execution_count": 10,
   "metadata": {
    "collapsed": false
   },
   "outputs": [
    {
     "data": {
      "text/plain": [
       "(DHValue(a=0.0, alpha=0, d=0.0, theta=0),\n",
       " DHValue(a=0.34999999999999998, alpha=-1.5707963267948966, d=0.0, theta=-1.5707963267948966),\n",
       " DHValue(a=1.25, alpha=0, d=0.0, theta=3.141592653589793),\n",
       " DHValue(a=0.053999999999999999, alpha=1.5707963267948966, d=1.5, theta=3.141592653589793),\n",
       " DHValue(a=0.0, alpha=1.5707963267948966, d=0.0, theta=3.141592653589793),\n",
       " DHValue(a=-0.0, alpha=1.5707963267948966, d=0.0, theta=0))"
      ]
     },
     "execution_count": 10,
     "metadata": {},
     "output_type": "execute_result"
    }
   ],
   "source": [
    "dh_params"
   ]
  },
  {
   "cell_type": "code",
   "execution_count": null,
   "metadata": {
    "collapsed": true
   },
   "outputs": [],
   "source": []
  }
 ],
 "metadata": {
  "kernelspec": {
   "display_name": "Python [Root]",
   "language": "python",
   "name": "Python [Root]"
  },
  "language_info": {
   "codemirror_mode": {
    "name": "ipython",
    "version": 2
   },
   "file_extension": ".py",
   "mimetype": "text/x-python",
   "name": "python",
   "nbconvert_exporter": "python",
   "pygments_lexer": "ipython2",
   "version": "2.7.12"
  }
 },
 "nbformat": 4,
 "nbformat_minor": 0
}
