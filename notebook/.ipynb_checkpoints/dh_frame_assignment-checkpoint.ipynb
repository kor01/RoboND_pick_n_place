{
 "cells": [
  {
   "cell_type": "code",
   "execution_count": 3,
   "metadata": {
    "collapsed": false
   },
   "outputs": [],
   "source": [
    "from manipulator_graph import frame_inference as fi\n",
    "from manipulator_graph import URDFParser\n",
    "from manipulator_graph import sort_joints"
   ]
  },
  {
   "cell_type": "code",
   "execution_count": 4,
   "metadata": {
    "collapsed": true
   },
   "outputs": [],
   "source": [
    "parser = URDFParser('./kr210.urdf')\n",
    "joints = [j for j in parser.joints if 'gripper' not in j.name]\n",
    "joints = sort_joints(joints)"
   ]
  },
  {
   "cell_type": "code",
   "execution_count": 5,
   "metadata": {
    "collapsed": false,
    "scrolled": false
   },
   "outputs": [
    {
     "data": {
      "text/plain": [
       "[Joint(name=u'fixed_base_joint', position=array([ 0.,  0.,  0.]), orientation=array([ 0.,  0.,  0.]), axis=None, type=u'fixed', parent=Link(name=u'base_footprint', position=array([ 0.,  0.,  0.]), orientation=array([ 0.,  0.,  0.]), mass=None, inertia=None), child=Link(name=u'base_link', position=array([ 0.,  0.,  0.]), orientation=array([ 0.,  0.,  0.]), mass=150.0, inertia=array([[  60.,    0.,    0.],\n",
       "       [   0.,   70.,    0.],\n",
       "       [   0.,    0.,  100.]])), limits=None),\n",
       " Joint(name=u'joint_1', position=array([ 0.  ,  0.  ,  0.33]), orientation=array([ 0.,  0.,  0.]), axis=array([ 0.,  0.,  1.]), type=u'revolute', parent=Link(name=u'base_link', position=array([ 0.,  0.,  0.]), orientation=array([ 0.,  0.,  0.]), mass=150.0, inertia=array([[  60.,    0.,    0.],\n",
       "       [   0.,   70.,    0.],\n",
       "       [   0.,    0.,  100.]])), child=Link(name=u'link_1', position=array([ 0. ,  0. ,  0.4]), orientation=array([ 0.,  0.,  0.]), mass=138.0, inertia=array([[ 30.,   0.,   0.],\n",
       "       [  0.,  50.,   0.],\n",
       "       [  0.,   0.,  50.]])), limits=None),\n",
       " Joint(name=u'joint_2', position=array([ 0.35,  0.  ,  0.42]), orientation=array([ 0.,  0.,  0.]), axis=array([ 0.,  1.,  0.]), type=u'revolute', parent=Link(name=u'link_1', position=array([ 0. ,  0. ,  0.4]), orientation=array([ 0.,  0.,  0.]), mass=138.0, inertia=array([[ 30.,   0.,   0.],\n",
       "       [  0.,  50.,   0.],\n",
       "       [  0.,   0.,  50.]])), child=Link(name=u'link_2', position=array([ 0.     ,  0.     ,  0.44751]), orientation=array([ 0.,  0.,  0.]), mass=95.0, inertia=array([[ 40.,   0.,   0.],\n",
       "       [  0.,  40.,   0.],\n",
       "       [  0.,   0.,  10.]])), limits=None),\n",
       " Joint(name=u'joint_3', position=array([ 0.  ,  0.  ,  1.25]), orientation=array([ 0.,  0.,  0.]), axis=array([ 0.,  1.,  0.]), type=u'revolute', parent=Link(name=u'link_2', position=array([ 0.     ,  0.     ,  0.44751]), orientation=array([ 0.,  0.,  0.]), mass=95.0, inertia=array([[ 40.,   0.,   0.],\n",
       "       [  0.,  40.,   0.],\n",
       "       [  0.,   0.,  10.]])), child=Link(name=u'link_3', position=array([ 0.18842 ,  0.18344 , -0.042799]), orientation=array([ 0.,  0.,  0.]), mass=71.0, inertia=array([[  1.,   0.,   0.],\n",
       "       [  0.,  10.,   0.],\n",
       "       [  0.,   0.,  10.]])), limits=None),\n",
       " Joint(name=u'joint_4', position=array([ 0.96 ,  0.   , -0.054]), orientation=array([ 0.,  0.,  0.]), axis=array([ 1.,  0.,  0.]), type=u'revolute', parent=Link(name=u'link_3', position=array([ 0.18842 ,  0.18344 , -0.042799]), orientation=array([ 0.,  0.,  0.]), mass=71.0, inertia=array([[  1.,   0.,   0.],\n",
       "       [  0.,  10.,   0.],\n",
       "       [  0.,   0.,  10.]])), child=Link(name=u'link_4', position=array([ 0.27146 , -0.007326,  0.      ]), orientation=array([ 0.,  0.,  0.]), mass=17.0, inertia=array([[ 0.18,  0.  ,  0.  ],\n",
       "       [ 0.  ,  0.55,  0.  ],\n",
       "       [ 0.  ,  0.  ,  0.64]])), limits=None),\n",
       " Joint(name=u'joint_5', position=array([ 0.54,  0.  ,  0.  ]), orientation=array([ 0.,  0.,  0.]), axis=array([ 0.,  1.,  0.]), type=u'revolute', parent=Link(name=u'link_4', position=array([ 0.27146 , -0.007326,  0.      ]), orientation=array([ 0.,  0.,  0.]), mass=17.0, inertia=array([[ 0.18,  0.  ,  0.  ],\n",
       "       [ 0.  ,  0.55,  0.  ],\n",
       "       [ 0.  ,  0.  ,  0.64]])), child=Link(name=u'link_5', position=array([ 0.,  0.,  0.]), orientation=array([ 0.,  0.,  0.]), mass=7.0, inertia=array([[ 0.04 ,  0.   ,  0.   ],\n",
       "       [ 0.   ,  0.068,  0.   ],\n",
       "       [ 0.   ,  0.   ,  0.068]])), limits=None),\n",
       " Joint(name=u'joint_6', position=array([ 0.193,  0.   ,  0.   ]), orientation=array([ 0.,  0.,  0.]), axis=array([ 1.,  0.,  0.]), type=u'revolute', parent=Link(name=u'link_5', position=array([ 0.,  0.,  0.]), orientation=array([ 0.,  0.,  0.]), mass=7.0, inertia=array([[ 0.04 ,  0.   ,  0.   ],\n",
       "       [ 0.   ,  0.068,  0.   ],\n",
       "       [ 0.   ,  0.   ,  0.068]])), child=Link(name=u'link_6', position=array([ 0.,  0.,  0.]), orientation=array([ 0.,  0.,  0.]), mass=0.5, inertia=array([[ 0.004,  0.   ,  0.   ],\n",
       "       [ 0.   ,  0.003,  0.   ],\n",
       "       [ 0.   ,  0.   ,  0.003]])), limits=None)]"
      ]
     },
     "execution_count": 5,
     "metadata": {},
     "output_type": "execute_result"
    }
   ],
   "source": [
    "# create joint lines from joints\n",
    "\n",
    "def joint_axis(joints):\n",
    "    \n"
   ]
  },
  {
   "cell_type": "code",
   "execution_count": null,
   "metadata": {
    "collapsed": true
   },
   "outputs": [],
   "source": []
  }
 ],
 "metadata": {
  "kernelspec": {
   "display_name": "Python [Root]",
   "language": "python",
   "name": "Python [Root]"
  },
  "language_info": {
   "codemirror_mode": {
    "name": "ipython",
    "version": 2
   },
   "file_extension": ".py",
   "mimetype": "text/x-python",
   "name": "python",
   "nbconvert_exporter": "python",
   "pygments_lexer": "ipython2",
   "version": "2.7.12"
  }
 },
 "nbformat": 4,
 "nbformat_minor": 0
}
