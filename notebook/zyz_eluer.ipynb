{
 "cells": [
  {
   "cell_type": "code",
   "execution_count": 1,
   "metadata": {
    "collapsed": true
   },
   "outputs": [],
   "source": [
    "import sympy as sp"
   ]
  },
  {
   "cell_type": "code",
   "execution_count": 3,
   "metadata": {
    "collapsed": false
   },
   "outputs": [],
   "source": [
    "q1, q2, q3 = sp.symbols('q1:4')"
   ]
  },
  {
   "cell_type": "code",
   "execution_count": 5,
   "metadata": {
    "collapsed": false
   },
   "outputs": [],
   "source": [
    "rot1 = sp.rot_axis3(-q1)"
   ]
  },
  {
   "cell_type": "code",
   "execution_count": 7,
   "metadata": {
    "collapsed": false
   },
   "outputs": [],
   "source": [
    "rot2 = sp.rot_axis2(-q2)"
   ]
  },
  {
   "cell_type": "code",
   "execution_count": 8,
   "metadata": {
    "collapsed": true
   },
   "outputs": [],
   "source": [
    "rot3 = sp.rot_axis3(-q3)"
   ]
  },
  {
   "cell_type": "code",
   "execution_count": 10,
   "metadata": {
    "collapsed": false
   },
   "outputs": [],
   "source": [
    "rot = rot1 * rot2 * rot3"
   ]
  },
  {
   "cell_type": "code",
   "execution_count": 11,
   "metadata": {
    "collapsed": false
   },
   "outputs": [
    {
     "data": {
      "text/plain": [
       "Matrix([\n",
       "[-sin(q1)*sin(q3) + cos(q1)*cos(q2)*cos(q3), -sin(q1)*cos(q3) - sin(q3)*cos(q1)*cos(q2), sin(q2)*cos(q1)],\n",
       "[ sin(q1)*cos(q2)*cos(q3) + sin(q3)*cos(q1), -sin(q1)*sin(q3)*cos(q2) + cos(q1)*cos(q3), sin(q1)*sin(q2)],\n",
       "[                          -sin(q2)*cos(q3),                            sin(q2)*sin(q3),         cos(q2)]])"
      ]
     },
     "execution_count": 11,
     "metadata": {},
     "output_type": "execute_result"
    }
   ],
   "source": [
    "rot"
   ]
  },
  {
   "cell_type": "code",
   "execution_count": 12,
   "metadata": {
    "collapsed": true
   },
   "outputs": [],
   "source": [
    "sp.init_printing()"
   ]
  },
  {
   "cell_type": "code",
   "execution_count": 13,
   "metadata": {
    "collapsed": false
   },
   "outputs": [
    {
     "data": {
      "text/latex": [
       "$$\\left[\\begin{matrix}- \\sin{\\left (q_{1} \\right )} \\sin{\\left (q_{3} \\right )} + \\cos{\\left (q_{1} \\right )} \\cos{\\left (q_{2} \\right )} \\cos{\\left (q_{3} \\right )} & - \\sin{\\left (q_{1} \\right )} \\cos{\\left (q_{3} \\right )} - \\sin{\\left (q_{3} \\right )} \\cos{\\left (q_{1} \\right )} \\cos{\\left (q_{2} \\right )} & \\sin{\\left (q_{2} \\right )} \\cos{\\left (q_{1} \\right )}\\\\\\sin{\\left (q_{1} \\right )} \\cos{\\left (q_{2} \\right )} \\cos{\\left (q_{3} \\right )} + \\sin{\\left (q_{3} \\right )} \\cos{\\left (q_{1} \\right )} & - \\sin{\\left (q_{1} \\right )} \\sin{\\left (q_{3} \\right )} \\cos{\\left (q_{2} \\right )} + \\cos{\\left (q_{1} \\right )} \\cos{\\left (q_{3} \\right )} & \\sin{\\left (q_{1} \\right )} \\sin{\\left (q_{2} \\right )}\\\\- \\sin{\\left (q_{2} \\right )} \\cos{\\left (q_{3} \\right )} & \\sin{\\left (q_{2} \\right )} \\sin{\\left (q_{3} \\right )} & \\cos{\\left (q_{2} \\right )}\\end{matrix}\\right]$$"
      ],
      "text/plain": [
       "⎡-sin(q₁)⋅sin(q₃) + cos(q₁)⋅cos(q₂)⋅cos(q₃)  -sin(q₁)⋅cos(q₃) - sin(q₃)⋅cos(q₁\n",
       "⎢                                                                             \n",
       "⎢sin(q₁)⋅cos(q₂)⋅cos(q₃) + sin(q₃)⋅cos(q₁)   -sin(q₁)⋅sin(q₃)⋅cos(q₂) + cos(q₁\n",
       "⎢                                                                             \n",
       "⎣             -sin(q₂)⋅cos(q₃)                            sin(q₂)⋅sin(q₃)     \n",
       "\n",
       ")⋅cos(q₂)  sin(q₂)⋅cos(q₁)⎤\n",
       "                          ⎥\n",
       ")⋅cos(q₃)  sin(q₁)⋅sin(q₂)⎥\n",
       "                          ⎥\n",
       "               cos(q₂)    ⎦"
      ]
     },
     "execution_count": 13,
     "metadata": {},
     "output_type": "execute_result"
    }
   ],
   "source": [
    "rot"
   ]
  },
  {
   "cell_type": "code",
   "execution_count": 19,
   "metadata": {
    "collapsed": false
   },
   "outputs": [
    {
     "data": {
      "text/latex": [
       "$$\\left[\\begin{matrix}- \\cos{\\left (q_{1} \\right )} & - \\sin{\\left (q_{1} \\right )} & 0\\\\- \\sin{\\left (q_{1} \\right )} & \\cos{\\left (q_{1} \\right )} & 0\\\\0 & 0 & -1\\end{matrix}\\right]$$"
      ],
      "text/plain": [
       "⎡-cos(q₁)  -sin(q₁)  0 ⎤\n",
       "⎢                      ⎥\n",
       "⎢-sin(q₁)  cos(q₁)   0 ⎥\n",
       "⎢                      ⎥\n",
       "⎣   0         0      -1⎦"
      ]
     },
     "execution_count": 19,
     "metadata": {},
     "output_type": "execute_result"
    }
   ],
   "source": [
    "rot.subs({q2: sp.pi, q3: 0})"
   ]
  },
  {
   "cell_type": "code",
   "execution_count": 20,
   "metadata": {
    "collapsed": true
   },
   "outputs": [],
   "source": [
    "import numpy as np"
   ]
  },
  {
   "cell_type": "code",
   "execution_count": 23,
   "metadata": {
    "collapsed": false
   },
   "outputs": [
    {
     "data": {
      "text/latex": [
       "$$0.0$$"
      ],
      "text/plain": [
       "0.0"
      ]
     },
     "execution_count": 23,
     "metadata": {},
     "output_type": "execute_result"
    }
   ],
   "source": [
    "np.arccos(1)"
   ]
  },
  {
   "cell_type": "code",
   "execution_count": null,
   "metadata": {
    "collapsed": true
   },
   "outputs": [],
   "source": []
  }
 ],
 "metadata": {
  "kernelspec": {
   "display_name": "Python [Root]",
   "language": "python",
   "name": "Python [Root]"
  },
  "language_info": {
   "codemirror_mode": {
    "name": "ipython",
    "version": 2
   },
   "file_extension": ".py",
   "mimetype": "text/x-python",
   "name": "python",
   "nbconvert_exporter": "python",
   "pygments_lexer": "ipython2",
   "version": "2.7.12"
  }
 },
 "nbformat": 4,
 "nbformat_minor": 0
}
