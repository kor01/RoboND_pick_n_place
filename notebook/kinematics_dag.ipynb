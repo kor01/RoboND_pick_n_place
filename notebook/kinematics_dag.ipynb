{
 "cells": [
  {
   "cell_type": "code",
   "execution_count": 1,
   "metadata": {
    "collapsed": false,
    "scrolled": false
   },
   "outputs": [],
   "source": [
    "from manipulator_graph.kinematics_dag import KinematicsDag\n",
    "from manipulator_graph.kinematics_dag import joint_topology\n",
    "from manipulator_graph.kinematics_dag import partition_as_serial_dag\n",
    "from manipulator_graph import URDFParser\n",
    "from manipulator_graph.kinematics_dag import KinematicsDag\n",
    "parser = URDFParser('./kr210.urdf')\n",
    "dag = KinematicsDag(parser.joints)"
   ]
  },
  {
   "cell_type": "code",
   "execution_count": 2,
   "metadata": {
    "collapsed": false
   },
   "outputs": [],
   "source": [
    "links = dag.first.graph.dh_links()"
   ]
  },
  {
   "cell_type": "code",
   "execution_count": 3,
   "metadata": {
    "collapsed": false
   },
   "outputs": [],
   "source": [
    "joints = [l.joint for l in links]"
   ]
  },
  {
   "cell_type": "code",
   "execution_count": 4,
   "metadata": {
    "collapsed": false
   },
   "outputs": [
    {
     "name": "stdout",
     "output_type": "stream",
     "text": [
      "[u'joint_1', u'joint_2', u'joint_3', u'joint_4', u'joint_5', u'joint_6']\n"
     ]
    }
   ],
   "source": [
    "print joints"
   ]
  },
  {
   "cell_type": "code",
   "execution_count": 5,
   "metadata": {
    "collapsed": true
   },
   "outputs": [],
   "source": [
    "state = {x: 0 for x in joints}"
   ]
  },
  {
   "cell_type": "code",
   "execution_count": 6,
   "metadata": {
    "collapsed": false
   },
   "outputs": [],
   "source": [
    "dh_frames = dag.first.graph.forward(state)"
   ]
  },
  {
   "cell_type": "code",
   "execution_count": 7,
   "metadata": {
    "collapsed": false
   },
   "outputs": [],
   "source": [
    "frames = dag.first.graph.forward(state, return_dh=False)"
   ]
  },
  {
   "cell_type": "code",
   "execution_count": 9,
   "metadata": {
    "collapsed": false
   },
   "outputs": [],
   "source": [
    "abs_frames = dag.first.graph._abs_frames"
   ]
  },
  {
   "cell_type": "code",
   "execution_count": 11,
   "metadata": {
    "collapsed": false
   },
   "outputs": [
    {
     "data": {
      "text/plain": [
       "8"
      ]
     },
     "execution_count": 11,
     "metadata": {},
     "output_type": "execute_result"
    }
   ],
   "source": [
    "len(abs_frames)"
   ]
  },
  {
   "cell_type": "code",
   "execution_count": 13,
   "metadata": {
    "collapsed": false
   },
   "outputs": [
    {
     "data": {
      "text/plain": [
       "[array([[ 1.,  0.,  0.,  0.],\n",
       "        [ 0.,  1.,  0.,  0.],\n",
       "        [ 0.,  0.,  1.,  0.],\n",
       "        [ 0.,  0.,  0.,  1.]]), array([[ 1.  ,  0.  ,  0.  ,  0.  ],\n",
       "        [ 0.  ,  1.  ,  0.  ,  0.  ],\n",
       "        [ 0.  ,  0.  ,  1.  ,  0.33],\n",
       "        [ 0.  ,  0.  ,  0.  ,  1.  ]]), array([[ 1.  ,  0.  ,  0.  ,  0.35],\n",
       "        [ 0.  ,  1.  ,  0.  ,  0.  ],\n",
       "        [ 0.  ,  0.  ,  1.  ,  0.75],\n",
       "        [ 0.  ,  0.  ,  0.  ,  1.  ]]), array([[ 1.  ,  0.  ,  0.  ,  0.35],\n",
       "        [ 0.  ,  1.  ,  0.  ,  0.  ],\n",
       "        [ 0.  ,  0.  ,  1.  ,  2.  ],\n",
       "        [ 0.  ,  0.  ,  0.  ,  1.  ]]), array([[ 1.   ,  0.   ,  0.   ,  1.31 ],\n",
       "        [ 0.   ,  1.   ,  0.   ,  0.   ],\n",
       "        [ 0.   ,  0.   ,  1.   ,  1.946],\n",
       "        [ 0.   ,  0.   ,  0.   ,  1.   ]]), array([[ 1.   ,  0.   ,  0.   ,  1.85 ],\n",
       "        [ 0.   ,  1.   ,  0.   ,  0.   ],\n",
       "        [ 0.   ,  0.   ,  1.   ,  1.946],\n",
       "        [ 0.   ,  0.   ,  0.   ,  1.   ]]), array([[ 1.   ,  0.   ,  0.   ,  2.043],\n",
       "        [ 0.   ,  1.   ,  0.   ,  0.   ],\n",
       "        [ 0.   ,  0.   ,  1.   ,  1.946],\n",
       "        [ 0.   ,  0.   ,  0.   ,  1.   ]]), array([[ 1.   ,  0.   ,  0.   ,  2.153],\n",
       "        [ 0.   ,  1.   ,  0.   ,  0.   ],\n",
       "        [ 0.   ,  0.   ,  1.   ,  1.946],\n",
       "        [ 0.   ,  0.   ,  0.   ,  1.   ]])]"
      ]
     },
     "execution_count": 13,
     "metadata": {},
     "output_type": "execute_result"
    }
   ],
   "source": [
    "abs_frames"
   ]
  },
  {
   "cell_type": "code",
   "execution_count": 1,
   "metadata": {
    "collapsed": false
   },
   "outputs": [
    {
     "ename": "NameError",
     "evalue": "name 'frames' is not defined",
     "output_type": "error",
     "traceback": [
      "\u001b[1;31m\u001b[0m",
      "\u001b[1;31mNameError\u001b[0mTraceback (most recent call last)",
      "\u001b[1;32m<ipython-input-1-739ca5c543e6>\u001b[0m in \u001b[0;36m<module>\u001b[1;34m()\u001b[0m\n\u001b[0;32m      1\u001b[0m \u001b[1;32mimport\u001b[0m \u001b[0mnumpy\u001b[0m \u001b[1;32mas\u001b[0m \u001b[0mnp\u001b[0m\u001b[1;33m\u001b[0m\u001b[0m\n\u001b[1;32m----> 2\u001b[1;33m \u001b[0mnp\u001b[0m\u001b[1;33m.\u001b[0m\u001b[0maround\u001b[0m\u001b[1;33m(\u001b[0m\u001b[0mframes\u001b[0m\u001b[1;33m[\u001b[0m\u001b[1;33m-\u001b[0m\u001b[1;36m1\u001b[0m\u001b[1;33m]\u001b[0m\u001b[1;33m[\u001b[0m\u001b[1;36m1\u001b[0m\u001b[1;33m]\u001b[0m\u001b[1;33m,\u001b[0m \u001b[1;36m5\u001b[0m\u001b[1;33m)\u001b[0m\u001b[1;33m\u001b[0m\u001b[0m\n\u001b[0m",
      "\u001b[1;31mNameError\u001b[0m: name 'frames' is not defined"
     ]
    }
   ],
   "source": [
    "import numpy as np\n",
    "np.around(frames[-1][1], 5)"
   ]
  },
  {
   "cell_type": "code",
   "execution_count": 16,
   "metadata": {
    "collapsed": false
   },
   "outputs": [
    {
     "data": {
      "text/plain": [
       "array([[ 1.   ,  0.   ,  0.   ,  2.153],\n",
       "       [ 0.   ,  1.   ,  0.   ,  0.   ],\n",
       "       [ 0.   ,  0.   ,  1.   ,  1.946],\n",
       "       [ 0.   ,  0.   ,  0.   ,  1.   ]])"
      ]
     },
     "execution_count": 16,
     "metadata": {},
     "output_type": "execute_result"
    }
   ],
   "source": [
    "abs_frames[-1]"
   ]
  },
  {
   "cell_type": "code",
   "execution_count": 22,
   "metadata": {
    "collapsed": false
   },
   "outputs": [
    {
     "data": {
      "text/plain": [
       "array([[  1.00000000e+00,   6.12323400e-17,  -9.95365964e-15,\n",
       "          2.15300000e+00],\n",
       "       [ -6.12323400e-17,   1.00000000e+00,  -3.16985681e-15,\n",
       "         -3.71680304e-17],\n",
       "       [  9.95365964e-15,   3.16985681e-15,   1.00000000e+00,\n",
       "          1.94600000e+00],\n",
       "       [  0.00000000e+00,   0.00000000e+00,   0.00000000e+00,\n",
       "          1.00000000e+00]])"
      ]
     },
     "execution_count": 22,
     "metadata": {},
     "output_type": "execute_result"
    }
   ],
   "source": [
    "frames[-1][1]"
   ]
  },
  {
   "cell_type": "code",
   "execution_count": 5,
   "metadata": {
    "collapsed": false
   },
   "outputs": [],
   "source": [
    "graph = dag.first.graph"
   ]
  },
  {
   "cell_type": "code",
   "execution_count": 6,
   "metadata": {
    "collapsed": false
   },
   "outputs": [
    {
     "data": {
      "text/plain": [
       "(DHValue(a=0.0, alpha=0, d=0.0, theta=0),\n",
       " DHValue(a=0.34999999999999998, alpha=-1.5707963267948966, d=0.0, theta=-1.5707963267948966),\n",
       " DHValue(a=1.25, alpha=0, d=0.0, theta=3.141592653589793),\n",
       " DHValue(a=0.053999999999999999, alpha=1.5707963267948966, d=1.5, theta=3.141592653589793),\n",
       " DHValue(a=0.0, alpha=1.5707963267948966, d=0.0, theta=3.141592653589793),\n",
       " DHValue(a=-0.0, alpha=1.5707963267948966, d=0.0, theta=0))"
      ]
     },
     "execution_count": 6,
     "metadata": {},
     "output_type": "execute_result"
    }
   ],
   "source": [
    "graph.dh_parameter"
   ]
  },
  {
   "cell_type": "code",
   "execution_count": null,
   "metadata": {
    "collapsed": true
   },
   "outputs": [],
   "source": []
  }
 ],
 "metadata": {
  "kernelspec": {
   "display_name": "Python [Root]",
   "language": "python",
   "name": "Python [Root]"
  },
  "language_info": {
   "codemirror_mode": {
    "name": "ipython",
    "version": 2
   },
   "file_extension": ".py",
   "mimetype": "text/x-python",
   "name": "python",
   "nbconvert_exporter": "python",
   "pygments_lexer": "ipython2",
   "version": "2.7.12"
  }
 },
 "nbformat": 4,
 "nbformat_minor": 0
}
